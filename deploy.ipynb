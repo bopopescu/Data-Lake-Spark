{
 "cells": [
  {
   "cell_type": "code",
   "execution_count": 27,
   "metadata": {
    "editable": true
   },
   "outputs": [],
   "source": [
    "import boto3\n",
    "import configparser\n",
    "import json\n",
    "import os\n",
    "config = configparser.ConfigParser()\n",
    "config.read('dl.cfg')\n",
    "\n",
    "os.environ['AWS_ACCESS_KEY_ID']=config.get('AWS','AWS_ACCESS_KEY_ID')\n",
    "os.environ['AWS_SECRET_ACCESS_KEY']=config.get('AWS','AWS_SECRET_ACCESS_KEY')\n",
    "\n",
    "\n",
    "def create_emr_cluster(emr_client, config):\n",
    "    cluster_id = emr_client.run_job_flow(\n",
    "        Name='spark-emr-cluster',\n",
    "        ReleaseLabel='emr-5.30.0',\n",
    "        LogUri='s3://aws-logs-086546006979-us-west-2',\n",
    "        Applications=[\n",
    "            {\n",
    "                'Name': 'Spark'\n",
    "            },\n",
    "        ],\n",
    "        Configurations=[\n",
    "            {\n",
    "                \"Classification\": \"spark-env\",\n",
    "                \"Configurations\": [\n",
    "                    {\n",
    "                        \"Classification\": \"export\",\n",
    "                        \"Properties\": {\n",
    "                            \"PYSPARK_PYTHON\": \"/usr/bin/python3\"\n",
    "                        }\n",
    "                    }\n",
    "                ]\n",
    "            }\n",
    "        ],\n",
    "        Instances={\n",
    "            'InstanceGroups': [\n",
    "                {\n",
    "                    'Name': \"Master nodes\",\n",
    "                    'Market': 'ON_DEMAND',\n",
    "                    'InstanceRole': 'MASTER',\n",
    "                    'InstanceType': 'm5.xlarge',\n",
    "                    'InstanceCount': 1,\n",
    "                },\n",
    "                {\n",
    "                    'Name': \"Slave nodes\",\n",
    "                    'Market': 'ON_DEMAND',\n",
    "                    'InstanceRole': 'CORE',\n",
    "                    'InstanceType': 'm5.xlarge',\n",
    "                    'InstanceCount': 1,\n",
    "                }\n",
    "            ],\n",
    "            'KeepJobFlowAliveWhenNoSteps': False,\n",
    "            'TerminationProtected': False,\n",
    "        },\n",
    "        Steps=[\n",
    "            {\n",
    "                'Name': 'Setup Debugging',\n",
    "                'ActionOnFailure': 'TERMINATE_CLUSTER',\n",
    "                'HadoopJarStep': {\n",
    "                    'Jar': 'command-runner.jar',\n",
    "                    'Args': ['state-pusher-script']\n",
    "                }\n",
    "            },\n",
    "            {\n",
    "                'Name': 'Setup - copy files',\n",
    "                'ActionOnFailure': 'CANCEL_AND_WAIT',\n",
    "                'HadoopJarStep': {\n",
    "                    'Jar': 'command-runner.jar',\n",
    "                    'Args': ['aws', 's3', 'cp', 's3://' + config['S3']['CODE_BUCKET'], '/home/hadoop/',\n",
    "                             '--recursive']\n",
    "                }\n",
    "            },\n",
    "            {\n",
    "                'Name': 'Run Spark',\n",
    "                'ActionOnFailure': 'CANCEL_AND_WAIT',\n",
    "                'HadoopJarStep': {\n",
    "                    'Jar': 'command-runner.jar',\n",
    "                    'Args': ['spark-submit', '/home/hadoop/etl.py',\n",
    "                             config['DATALAKE']['INPUT_DATA'], config['DATALAKE']['OUTPUT_DATA']]\n",
    "                }\n",
    "            }\n",
    "        ],\n",
    "        VisibleToAllUsers=True,\n",
    "        JobFlowRole='EMR_EC2_DefaultRole',\n",
    "        ServiceRole='MyEmrRole'\n",
    "    )\n",
    "\n",
    "    print('cluster created with the step...', cluster_id['JobFlowId'])\n",
    "\n",
    "\n"
   ]
  },
  {
   "cell_type": "code",
   "execution_count": 28,
   "metadata": {
    "editable": true
   },
   "outputs": [],
   "source": [
    "def create_bucket(s3_client, bucket_name):\n",
    "    location = {'LocationConstraint': 'us-west-2'}\n",
    "    s3_client.create_bucket(Bucket=bucket_name, CreateBucketConfiguration=location)\n",
    "\n",
    "\n"
   ]
  },
  {
   "cell_type": "code",
   "execution_count": 29,
   "metadata": {
    "editable": true
   },
   "outputs": [],
   "source": [
    "def upload_code(s3_client, file_name, bucket_name):\n",
    "    s3_client.upload_file(file_name, bucket_name, 'etl.py')\n",
    "\n"
   ]
  },
  {
   "cell_type": "code",
   "execution_count": 30,
   "metadata": {
    "editable": true
   },
   "outputs": [],
   "source": [
    "def create_iam_role(iam_client):\n",
    "    role = iam_client.create_role(\n",
    "        RoleName='MyEmrRole',\n",
    "        Description='Allows EMR to call AWS services on your behalf',\n",
    "        AssumeRolePolicyDocument=json.dumps({\n",
    "            'Version': '2012-10-17',\n",
    "            'Statement': [{\n",
    "                'Action': 'sts:AssumeRole',\n",
    "                'Effect': 'Allow',\n",
    "                'Principal': {'Service': 'elasticmapreduce.amazonaws.com'}\n",
    "            }]\n",
    "        })\n",
    "    )\n",
    "\n",
    "    iam_client.attach_role_policy(\n",
    "        RoleName='MyEmrRole',\n",
    "        PolicyArn='arn:aws:iam::aws:policy/AmazonS3FullAccess'\n",
    "    )\n",
    "\n",
    "    iam_client.attach_role_policy(\n",
    "        RoleName='MyEmrRole',\n",
    "        PolicyArn='arn:aws:iam::aws:policy/service-role/AmazonElasticMapReduceRole'\n",
    "    )\n",
    "\n",
    "    return role\n",
    "\n",
    "\n"
   ]
  },
  {
   "cell_type": "code",
   "execution_count": 31,
   "metadata": {
    "editable": true
   },
   "outputs": [
    {
     "name": "stdout",
     "output_type": "stream",
     "text": [
      "cluster created with the step... j-1G47XKGKR6DYN\n"
     ]
    }
   ],
   "source": [
    "def main():\n",
    "    import os\n",
    "    config = configparser.ConfigParser()\n",
    "    config.read('dl.cfg')\n",
    "    \n",
    "    os.environ['AWS_ACCESS_KEY_ID']=config.get('AWS','AWS_ACCESS_KEY_ID')\n",
    "    os.environ['AWS_SECRET_ACCESS_KEY']=config.get('AWS','AWS_SECRET_ACCESS_KEY')\n",
    "\n",
    "    iam_client = boto3.client('iam')\n",
    "    # create_iam_role(iam_client)\n",
    "\n",
    "    s3_client = boto3.client('s3',region_name='us-west-2',aws_access_key_id=config['AWS']['AWS_ACCESS_KEY_ID'],\n",
    "        aws_secret_access_key=config['AWS']['AWS_SECRET_ACCESS_KEY'])\n",
    "\n",
    "    # create_bucket(s3_client, config['S3']['OUTPUT_BUCKET'])\n",
    "    # create_bucket(s3_client, config['S3']['CODE_BUCKET'])\n",
    "\n",
    "    emr_client = boto3.client('emr',region_name='us-west-2',aws_access_key_id=config['AWS']['AWS_ACCESS_KEY_ID'],\n",
    "        aws_secret_access_key=config['AWS']['AWS_SECRET_ACCESS_KEY'])\n",
    "    create_emr_cluster(emr_client, config)\n",
    "\n",
    "\n",
    "if __name__ == '__main__':\n",
    "    main()"
   ]
  },
  {
   "cell_type": "code",
   "execution_count": null,
   "metadata": {
    "editable": true
   },
   "outputs": [],
   "source": []
  },
  {
   "cell_type": "code",
   "execution_count": null,
   "metadata": {
    "editable": true
   },
   "outputs": [],
   "source": []
  }
 ],
 "metadata": {
  "kernelspec": {
   "display_name": "Python 3",
   "language": "python",
   "name": "python3"
  },
  "language_info": {
   "codemirror_mode": {
    "name": "ipython",
    "version": 3
   },
   "file_extension": ".py",
   "mimetype": "text/x-python",
   "name": "python",
   "nbconvert_exporter": "python",
   "pygments_lexer": "ipython3",
   "version": "3.6.3"
  }
 },
 "nbformat": 4,
 "nbformat_minor": 4
}
